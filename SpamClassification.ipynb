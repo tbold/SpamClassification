{
  "nbformat": 4,
  "nbformat_minor": 0,
  "metadata": {
    "anaconda-cloud": {},
    "colab": {
      "name": "hw8.ipynb",
      "provenance": [],
      "collapsed_sections": [],
      "toc_visible": true
    },
    "kernelspec": {
      "display_name": "Python 3",
      "language": "python",
      "name": "python3"
    },
    "language_info": {
      "codemirror_mode": {
        "name": "ipython",
        "version": 3
      },
      "file_extension": ".py",
      "mimetype": "text/x-python",
      "name": "python",
      "nbconvert_exporter": "python",
      "pygments_lexer": "ipython3",
      "version": "3.8.5"
    },
    "name": "_merged",
    "toc": {
      "colors": {
        "hover_highlight": "#DAA520",
        "navigate_num": "#000000",
        "navigate_text": "#333333",
        "running_highlight": "#FF0000",
        "selected_highlight": "#FFD700",
        "sidebar_border": "#EEEEEE",
        "wrapper_background": "#FFFFFF"
      },
      "moveMenuLeft": true,
      "nav_menu": {
        "height": "438px",
        "width": "252px"
      },
      "navigate_menu": true,
      "number_sections": true,
      "sideBar": true,
      "threshold": 4,
      "toc_cell": false,
      "toc_section_display": "block",
      "toc_window_display": false,
      "widenNotebook": false
    }
  },
  "cells": [
    {
      "cell_type": "markdown",
      "metadata": {
        "id": "Mdgf5-g9Xvb2"
      },
      "source": [
        "# Classifying spam vs real news"
      ]
    },
    {
      "cell_type": "code",
      "metadata": {
        "id": "PueZKd1LXvb3"
      },
      "source": [
        "import numpy as np\n",
        "import pandas as pd\n",
        "import matplotlib.pyplot as plt"
      ],
      "execution_count": 1,
      "outputs": []
    },
    {
      "cell_type": "code",
      "metadata": {
        "id": "jyReDrkLXvb3"
      },
      "source": [
        "from sklearn.model_selection import train_test_split, cross_val_score, cross_validate, RandomizedSearchCV\n",
        "from sklearn.feature_extraction.text import CountVectorizer\n",
        "from sklearn.pipeline import Pipeline\n",
        "from sklearn.impute import SimpleImputer\n",
        "from sklearn.compose import ColumnTransformer\n",
        "from sklearn.pipeline import Pipeline, make_pipeline\n",
        "from sklearn.preprocessing import StandardScaler\n",
        "from sklearn.dummy import DummyClassifier\n",
        "from lightgbm import LGBMClassifier\n",
        "from sklearn.tree import DecisionTreeClassifier\n",
        "from sklearn.linear_model import LogisticRegression\n",
        "from sklearn.ensemble import RandomForestClassifier, GradientBoostingClassifier\n",
        "from sklearn.metrics import precision_score, recall_score\n"
      ],
      "execution_count": 2,
      "outputs": []
    },
    {
      "cell_type": "markdown",
      "metadata": {
        "id": "wc3xaKooXvb3"
      },
      "source": [
        "## The dataset\n",
        "\n",
        "In this world with an influx of information from every outlet, it gets difficult to distinguish between real and fake news. This dataset is a collection of news articles from English blogs, newspaper articles, and news reels."
      ]
    },
    {
      "cell_type": "markdown",
      "metadata": {
        "id": "JNVV19V5Xvb3"
      },
      "source": [
        "**Kaggle dataset: https://www.kaggle.com/clmentbisaillon/fake-and-real-news-dataset**"
      ]
    },
    {
      "cell_type": "markdown",
      "metadata": {
        "id": "2speoFP2Xvb3"
      },
      "source": [
        "## The goal\n",
        "\n",
        "The goal for this dataset is to determine if a news article is fake or not. This task would be useful for social media sites to flag incorrect or misleading information to be spread to the public. The decision is should a news article be flagged for spam. The alternatives are at what time of the year is likely to produce fake news articles (maybe during election season?). Or how many fake news articles are about politics?"
      ]
    },
    {
      "cell_type": "markdown",
      "metadata": {
        "id": "ar3SpKm3Xvb3"
      },
      "source": [
        "## Split the dataset\n",
        "\n",
        "Splitting data into train/test set"
      ]
    },
    {
      "cell_type": "code",
      "metadata": {
        "colab": {
          "base_uri": "https://localhost:8080/",
          "height": 310
        },
        "id": "kTUk0dizXvb3",
        "outputId": "0ef8db4a-1711-46d8-d852-bc7913816c3e"
      },
      "source": [
        "df = pd.read_csv(\"articles.csv\", parse_dates=[\"date\"],  engine='python')\n",
        "df.head()\n",
        "df = df.sample(frac=1)\n",
        "print(df.shape)\n",
        "df.head()"
      ],
      "execution_count": 3,
      "outputs": [
        {
          "output_type": "stream",
          "text": [
            "(44867, 5)\n"
          ],
          "name": "stdout"
        },
        {
          "output_type": "execute_result",
          "data": {
            "text/html": [
              "<div>\n",
              "<style scoped>\n",
              "    .dataframe tbody tr th:only-of-type {\n",
              "        vertical-align: middle;\n",
              "    }\n",
              "\n",
              "    .dataframe tbody tr th {\n",
              "        vertical-align: top;\n",
              "    }\n",
              "\n",
              "    .dataframe thead th {\n",
              "        text-align: right;\n",
              "    }\n",
              "</style>\n",
              "<table border=\"1\" class=\"dataframe\">\n",
              "  <thead>\n",
              "    <tr style=\"text-align: right;\">\n",
              "      <th></th>\n",
              "      <th>title</th>\n",
              "      <th>text</th>\n",
              "      <th>subject</th>\n",
              "      <th>date</th>\n",
              "      <th>real</th>\n",
              "    </tr>\n",
              "  </thead>\n",
              "  <tbody>\n",
              "    <tr>\n",
              "      <th>35657</th>\n",
              "      <td>Italian woman jailed in Denmark for ordering m...</td>\n",
              "      <td>COPENHAGEN (Reuters) - An Italian woman who or...</td>\n",
              "      <td>worldnews</td>\n",
              "      <td>2017-12-15</td>\n",
              "      <td>True</td>\n",
              "    </tr>\n",
              "    <tr>\n",
              "      <th>11882</th>\n",
              "      <td>LAUGHABLE! MAXINE WATERS On Why She Wants To I...</td>\n",
              "      <td></td>\n",
              "      <td>politics</td>\n",
              "      <td>2017-01-16</td>\n",
              "      <td>False</td>\n",
              "    </tr>\n",
              "    <tr>\n",
              "      <th>790</th>\n",
              "      <td>WATCH: Republican Strategist BLASTS ‘Lawless’...</td>\n",
              "      <td>Democrats and Republicans don t agree on a lot...</td>\n",
              "      <td>News</td>\n",
              "      <td>2017-07-22</td>\n",
              "      <td>False</td>\n",
              "    </tr>\n",
              "    <tr>\n",
              "      <th>357</th>\n",
              "      <td>Michael Flynn Begs For Donations On Twitter, ...</td>\n",
              "      <td>Remember that time Michael Flynn led  lock her...</td>\n",
              "      <td>News</td>\n",
              "      <td>2017-09-18</td>\n",
              "      <td>False</td>\n",
              "    </tr>\n",
              "    <tr>\n",
              "      <th>3197</th>\n",
              "      <td>Trump Just Started Following ‘Emergency Kitte...</td>\n",
              "      <td>You can often figure a lot out about a person ...</td>\n",
              "      <td>News</td>\n",
              "      <td>2017-01-02</td>\n",
              "      <td>False</td>\n",
              "    </tr>\n",
              "  </tbody>\n",
              "</table>\n",
              "</div>"
            ],
            "text/plain": [
              "                                                   title  ...   real\n",
              "35657  Italian woman jailed in Denmark for ordering m...  ...   True\n",
              "11882  LAUGHABLE! MAXINE WATERS On Why She Wants To I...  ...  False\n",
              "790     WATCH: Republican Strategist BLASTS ‘Lawless’...  ...  False\n",
              "357     Michael Flynn Begs For Donations On Twitter, ...  ...  False\n",
              "3197    Trump Just Started Following ‘Emergency Kitte...  ...  False\n",
              "\n",
              "[5 rows x 5 columns]"
            ]
          },
          "metadata": {
            "tags": []
          },
          "execution_count": 3
        }
      ]
    },
    {
      "cell_type": "code",
      "metadata": {
        "colab": {
          "base_uri": "https://localhost:8080/"
        },
        "id": "y32fcqBxXvb5",
        "outputId": "55be1b8f-7e73-4555-8120-7e274ce3d9fb"
      },
      "source": [
        "df_train, df_test = train_test_split(df, random_state=123, train_size=0.80)\n",
        "y_train = df_train[\"real\"]\n",
        "df_train = df_train.drop(\"real\", axis=1)\n",
        "y_test = df_test[\"real\"]\n",
        "df_test = df_test.drop(\"real\", axis=1)\n",
        "\n",
        "print(\"train size:\", df_train.shape)\n",
        "print(\"test size:\", df_test.shape)"
      ],
      "execution_count": 4,
      "outputs": [
        {
          "output_type": "stream",
          "text": [
            "train size: (35893, 4)\n",
            "test size: (8974, 4)\n"
          ],
          "name": "stdout"
        }
      ]
    },
    {
      "cell_type": "markdown",
      "metadata": {
        "id": "R486wFAaXvb5"
      },
      "source": [
        "## Exploratory data analysis"
      ]
    },
    {
      "cell_type": "markdown",
      "metadata": {
        "id": "a6_KgvBH395O"
      },
      "source": [
        "Training dataset has no missing values and an even split in target column `real` so there is no class imbalance."
      ]
    },
    {
      "cell_type": "code",
      "metadata": {
        "colab": {
          "base_uri": "https://localhost:8080/"
        },
        "id": "a-yozgaMXvb5",
        "outputId": "3dfc2353-ca69-449b-dce8-2ca1a829d904"
      },
      "source": [
        "df_train.info()"
      ],
      "execution_count": 5,
      "outputs": [
        {
          "output_type": "stream",
          "text": [
            "<class 'pandas.core.frame.DataFrame'>\n",
            "Int64Index: 35893 entries, 5263 to 20189\n",
            "Data columns (total 4 columns):\n",
            " #   Column   Non-Null Count  Dtype         \n",
            "---  ------   --------------  -----         \n",
            " 0   title    35893 non-null  object        \n",
            " 1   text     35893 non-null  object        \n",
            " 2   subject  35893 non-null  object        \n",
            " 3   date     35893 non-null  datetime64[ns]\n",
            "dtypes: datetime64[ns](1), object(3)\n",
            "memory usage: 1.4+ MB\n"
          ],
          "name": "stdout"
        }
      ]
    },
    {
      "cell_type": "code",
      "metadata": {
        "colab": {
          "base_uri": "https://localhost:8080/"
        },
        "id": "iWRwtkNCXvb6",
        "outputId": "54ca2d56-9a11-4542-9561-a39ca8df9c56"
      },
      "source": [
        "y_train.value_counts()"
      ],
      "execution_count": 6,
      "outputs": [
        {
          "output_type": "execute_result",
          "data": {
            "text/plain": [
              "False    18771\n",
              "True     17122\n",
              "Name: real, dtype: int64"
            ]
          },
          "metadata": {
            "tags": []
          },
          "execution_count": 6
        }
      ]
    },
    {
      "cell_type": "code",
      "metadata": {
        "colab": {
          "base_uri": "https://localhost:8080/"
        },
        "id": "HNgTj9fZXvb7",
        "outputId": "b17d9948-6c74-46ea-b7ff-00f5f96b6a31"
      },
      "source": [
        "df_train[\"subject\"].value_counts()"
      ],
      "execution_count": 7,
      "outputs": [
        {
          "output_type": "execute_result",
          "data": {
            "text/plain": [
              "politicsNews       8979\n",
              "worldnews          8143\n",
              "News               7222\n",
              "politics           5483\n",
              "left-news          3554\n",
              "Government News    1265\n",
              "US_News             625\n",
              "Middle-east         622\n",
              "Name: subject, dtype: int64"
            ]
          },
          "metadata": {
            "tags": []
          },
          "execution_count": 7
        }
      ]
    },
    {
      "cell_type": "code",
      "metadata": {
        "colab": {
          "base_uri": "https://localhost:8080/",
          "height": 283
        },
        "id": "-RXEvFvSXvb7",
        "outputId": "eacb00b9-dca4-429b-db97-ef77114af6fd"
      },
      "source": [
        "df_train[\"subject\"].hist()"
      ],
      "execution_count": 8,
      "outputs": [
        {
          "output_type": "execute_result",
          "data": {
            "text/plain": [
              "<matplotlib.axes._subplots.AxesSubplot at 0x7ffb809d6da0>"
            ]
          },
          "metadata": {
            "tags": []
          },
          "execution_count": 8
        },
        {
          "output_type": "display_data",
          "data": {
            "image/png": "[encoded data removed]",
            "text/plain": [
              "<Figure size 432x288 with 1 Axes>"
            ]
          },
          "metadata": {
            "tags": [],
            "needs_background": "light"
          }
        }
      ]
    },
    {
      "cell_type": "markdown",
      "metadata": {
        "id": "PvrMSArkXvb7"
      },
      "source": [
        "`subject` column is categorical with government and political categories as the dominant values. There is some overlap in the types, `News` can cover `worldnews` and `US_News` types."
      ]
    },
    {
      "cell_type": "code",
      "metadata": {
        "colab": {
          "base_uri": "https://localhost:8080/",
          "height": 282
        },
        "id": "js2HifWOXvb7",
        "outputId": "5d071ef2-3f16-4431-9def-4b9eb85831e4"
      },
      "source": [
        "df_train[\"date\"].hist(bins = 50)"
      ],
      "execution_count": 9,
      "outputs": [
        {
          "output_type": "execute_result",
          "data": {
            "text/plain": [
              "<matplotlib.axes._subplots.AxesSubplot at 0x7ffb80eaee80>"
            ]
          },
          "metadata": {
            "tags": []
          },
          "execution_count": 9
        },
        {
          "output_type": "display_data",
          "data": {
            "image/png": "[encoded data removed]",
            "text/plain": [
              "<Figure size 432x288 with 1 Axes>"
            ]
          },
          "metadata": {
            "tags": [],
            "needs_background": "light"
          }
        }
      ]
    },
    {
      "cell_type": "markdown",
      "metadata": {
        "id": "4xnMH98aXvb7"
      },
      "source": [
        "There is only one numeric feature, `date`, which does not have as much data from 2015 and has a lot more data for 2017-2018."
      ]
    },
    {
      "cell_type": "code",
      "metadata": {
        "colab": {
          "base_uri": "https://localhost:8080/",
          "height": 316
        },
        "id": "wG8-H-tlXvb7",
        "outputId": "93eb16b8-9083-4988-f8a2-e133e221208a"
      },
      "source": [
        "title_count = pd.DataFrame(df_train['title'].str.split().apply(len))\n",
        "title_count.hist(bins = 30)"
      ],
      "execution_count": 10,
      "outputs": [
        {
          "output_type": "execute_result",
          "data": {
            "text/plain": [
              "array([[<matplotlib.axes._subplots.AxesSubplot object at 0x7ffb80cfbc18>]],\n",
              "      dtype=object)"
            ]
          },
          "metadata": {
            "tags": []
          },
          "execution_count": 10
        },
        {
          "output_type": "display_data",
          "data": {
            "image/png": "[encoded data removed]",
            "text/plain": [
              "<Figure size 432x288 with 1 Axes>"
            ]
          },
          "metadata": {
            "tags": [],
            "needs_background": "light"
          }
        }
      ]
    },
    {
      "cell_type": "code",
      "metadata": {
        "colab": {
          "base_uri": "https://localhost:8080/",
          "height": 316
        },
        "id": "pHGePwhqXvb7",
        "outputId": "2d9fc482-7e7c-4fac-d6f3-6de1d8949173"
      },
      "source": [
        "text_count = pd.DataFrame(df_train['text'].str.split().apply(len))\n",
        "text_count.hist(bins = 50)"
      ],
      "execution_count": 11,
      "outputs": [
        {
          "output_type": "execute_result",
          "data": {
            "text/plain": [
              "array([[<matplotlib.axes._subplots.AxesSubplot object at 0x7ffb4f9866a0>]],\n",
              "      dtype=object)"
            ]
          },
          "metadata": {
            "tags": []
          },
          "execution_count": 11
        },
        {
          "output_type": "display_data",
          "data": {
            "image/png": "[encoded data removed]",
            "text/plain": [
              "<Figure size 432x288 with 1 Axes>"
            ]
          },
          "metadata": {
            "tags": [],
            "needs_background": "light"
          }
        }
      ]
    },
    {
      "cell_type": "markdown",
      "metadata": {
        "id": "HXlS-glfXvb8"
      },
      "source": [
        "For `title` column, most datapoints are clustered in the 12 word count range but there is some outliers with more than 30 words. For `text` column, most data points are in the 100 - 1000 word range."
      ]
    },
    {
      "cell_type": "code",
      "metadata": {
        "colab": {
          "base_uri": "https://localhost:8080/",
          "height": 296
        },
        "id": "Cg2wfOgpXvb8",
        "outputId": "7336e3cb-a777-4bd1-f877-e1e6b7f129d8"
      },
      "source": [
        "plt.scatter(text_count[\"text\"][~y_train],title_count[\"title\"][~y_train], marker = \"x\")\n",
        "plt.scatter(text_count[\"text\"][y_train],title_count[\"title\"][y_train], marker = \"^\")\n",
        "\n",
        "plt.legend(labels=y_train)\n",
        "plt.xlabel(\"text\")\n",
        "plt.ylabel(\"title\")"
      ],
      "execution_count": 12,
      "outputs": [
        {
          "output_type": "execute_result",
          "data": {
            "text/plain": [
              "Text(0, 0.5, 'title')"
            ]
          },
          "metadata": {
            "tags": []
          },
          "execution_count": 12
        },
        {
          "output_type": "display_data",
          "data": {
            "image/png": "[encoded data removed]",
            "text/plain": [
              "<Figure size 432x288 with 1 Axes>"
            ]
          },
          "metadata": {
            "tags": [],
            "needs_background": "light"
          }
        }
      ]
    },
    {
      "cell_type": "markdown",
      "metadata": {
        "id": "o8uwjPuCXvb8"
      },
      "source": [
        "Upon further inspection of the text columns, there is some outliers some fake and real articles with more than 5000 text words. It seems real news articles are limited to less than 20 words but fake ones with more than 40 words are outliers."
      ]
    },
    {
      "cell_type": "markdown",
      "metadata": {
        "id": "UHdUfti8Xvb8"
      },
      "source": [
        "## Data cleaning\n",
        "The raw dataset does not have many features to begin with but the articles themselves have many words. I will drop the `title` column because there is not as many words to work with. I will also drop the `subject` column because the categories are pretty vague and does not provide a clear division of what kind of news it is. It would've been preferable to have political, sports, and entertainment etc; but the current values are not helpful."
      ]
    },
    {
      "cell_type": "markdown",
      "metadata": {
        "id": "pQsmatIIXvb9"
      },
      "source": [
        "## The preprocessing pipeline"
      ]
    },
    {
      "cell_type": "code",
      "metadata": {
        "id": "7LeoKsLIXvb9"
      },
      "source": [
        "categorical_features = 'text'\n",
        "numerical_features = ['date']\n",
        "drop_features = ['title', 'subject'] "
      ],
      "execution_count": 13,
      "outputs": []
    },
    {
      "cell_type": "code",
      "metadata": {
        "id": "7Nx5rCV3Xvb9"
      },
      "source": [
        "numeric_transformer = Pipeline([\n",
        "    ('scaler', StandardScaler())\n",
        "]) \n",
        "categorical_transformer = Pipeline([\n",
        "    ('countvec', CountVectorizer(binary=True))\n",
        "])\n",
        "preprocessor = ColumnTransformer([\n",
        "        ('numeric', numeric_transformer, numerical_features),\n",
        "        ('categorical', categorical_transformer, categorical_features)\n",
        "])"
      ],
      "execution_count": 14,
      "outputs": []
    },
    {
      "cell_type": "markdown",
      "metadata": {
        "id": "6e-Bmq94Xvb9"
      },
      "source": [
        "## Exploratory baseline models\n",
        "\n",
        "Some basic models with default parameters to help identify the best model to use.\n",
        "\n",
        "Especially with DummyClassifier as a baseline, any chosen model must perform better than this one.\n"
      ]
    },
    {
      "cell_type": "code",
      "metadata": {
        "id": "aQ7WAu6fXvb9"
      },
      "source": [
        "pipe_dummy = Pipeline([\n",
        "    ('preprocessor', preprocessor),\n",
        "    ('model', DummyClassifier())])\n",
        "pipe_lr = Pipeline([\n",
        "    ('preprocessor', preprocessor),\n",
        "    ('model', LogisticRegression(max_iter=1000))])\n",
        "pipe_lgbm = Pipeline([\n",
        "    ('preprocessor', preprocessor),\n",
        "    ('model', LGBMClassifier())])\n",
        "pipe_tree = Pipeline([\n",
        "    ('preprocessor', preprocessor),\n",
        "    ('model', DecisionTreeClassifier())])\n",
        "pipe_forest = Pipeline([\n",
        "    ('preprocessor', preprocessor),\n",
        "    ('model', RandomForestClassifier())])"
      ],
      "execution_count": 15,
      "outputs": []
    },
    {
      "cell_type": "code",
      "metadata": {
        "id": "SY_8MWJLXvb9"
      },
      "source": [
        "classifiers = {\n",
        "    'dummy' : pipe_dummy,\n",
        "    'logistic regression' : pipe_lr,\n",
        "    'LightGBM' : pipe_lgbm,\n",
        "    'decision tree' : pipe_tree,\n",
        "    'random forest' : pipe_forest\n",
        "}\n",
        "mean_results_dict = dict()\n",
        "std_results_dict = dict()\n",
        "for name, classifier in classifiers.items():\n",
        "    print(name)\n",
        "    result = pd.DataFrame(cross_validate(classifier, df_train, y_train, return_train_score=True))\n",
        "    mean_results_dict[name] = result.mean()\n",
        "    std_results_dict[name] = result.std()"
      ],
      "execution_count": null,
      "outputs": []
    },
    {
      "cell_type": "code",
      "metadata": {
        "colab": {
          "base_uri": "https://localhost:8080/",
          "height": 206
        },
        "id": "0T1cbScQXvb9",
        "outputId": "5634225b-823a-4833-9872-10c834a7ce51"
      },
      "source": [
        "results = pd.DataFrame(mean_results_dict).T\n",
        "std_results  = pd.DataFrame(std_results_dict).T\n",
        "results = results.assign(test_score_std=std_results[\"test_score\"])\n",
        "results.sort_values(by=[\"test_score\"], ascending=False)"
      ],
      "execution_count": null,
      "outputs": [
        {
          "output_type": "execute_result",
          "data": {
            "text/html": [
              "<div>\n",
              "<style scoped>\n",
              "    .dataframe tbody tr th:only-of-type {\n",
              "        vertical-align: middle;\n",
              "    }\n",
              "\n",
              "    .dataframe tbody tr th {\n",
              "        vertical-align: top;\n",
              "    }\n",
              "\n",
              "    .dataframe thead th {\n",
              "        text-align: right;\n",
              "    }\n",
              "</style>\n",
              "<table border=\"1\" class=\"dataframe\">\n",
              "  <thead>\n",
              "    <tr style=\"text-align: right;\">\n",
              "      <th></th>\n",
              "      <th>fit_time</th>\n",
              "      <th>score_time</th>\n",
              "      <th>test_score</th>\n",
              "      <th>train_score</th>\n",
              "      <th>test_score_std</th>\n",
              "    </tr>\n",
              "  </thead>\n",
              "  <tbody>\n",
              "    <tr>\n",
              "      <th>logistic regression</th>\n",
              "      <td>13.081576</td>\n",
              "      <td>2.275804</td>\n",
              "      <td>0.998133</td>\n",
              "      <td>0.999972</td>\n",
              "      <td>0.000159</td>\n",
              "    </tr>\n",
              "    <tr>\n",
              "      <th>LightGBM</th>\n",
              "      <td>39.647902</td>\n",
              "      <td>2.406774</td>\n",
              "      <td>0.997938</td>\n",
              "      <td>0.999993</td>\n",
              "      <td>0.000552</td>\n",
              "    </tr>\n",
              "    <tr>\n",
              "      <th>decision tree</th>\n",
              "      <td>17.178085</td>\n",
              "      <td>2.247309</td>\n",
              "      <td>0.996824</td>\n",
              "      <td>1.000000</td>\n",
              "      <td>0.000726</td>\n",
              "    </tr>\n",
              "    <tr>\n",
              "      <th>random forest</th>\n",
              "      <td>93.482382</td>\n",
              "      <td>3.217454</td>\n",
              "      <td>0.988104</td>\n",
              "      <td>1.000000</td>\n",
              "      <td>0.000604</td>\n",
              "    </tr>\n",
              "    <tr>\n",
              "      <th>dummy</th>\n",
              "      <td>8.725616</td>\n",
              "      <td>2.231008</td>\n",
              "      <td>0.501268</td>\n",
              "      <td>0.498168</td>\n",
              "      <td>0.003156</td>\n",
              "    </tr>\n",
              "  </tbody>\n",
              "</table>\n",
              "</div>"
            ],
            "text/plain": [
              "                      fit_time  score_time  ...  train_score  test_score_std\n",
              "logistic regression  13.081576    2.275804  ...     0.999972        0.000159\n",
              "LightGBM             39.647902    2.406774  ...     0.999993        0.000552\n",
              "decision tree        17.178085    2.247309  ...     1.000000        0.000726\n",
              "random forest        93.482382    3.217454  ...     1.000000        0.000604\n",
              "dummy                 8.725616    2.231008  ...     0.498168        0.003156\n",
              "\n",
              "[5 rows x 5 columns]"
            ]
          },
          "metadata": {
            "tags": []
          },
          "execution_count": 17
        }
      ]
    },
    {
      "cell_type": "markdown",
      "metadata": {
        "id": "K74iQmyVXvb9"
      },
      "source": [
        "I used all default hyperparameters for both the classifier and preprocessor. All the classifiers (except for DummyClassifier) performed well but it would be interesting to see if the preprocessing could be further improved on."
      ]
    },
    {
      "cell_type": "markdown",
      "metadata": {
        "id": "HyS--cXYXvb9"
      },
      "source": [
        "## Hyper-parameter tuning\n",
        "\n",
        "I chose to use a randomized search on LGBM because it is interesting to tune the leaves and the depth of the trees.\n",
        "\n",
        "In the end, there was very little improvement in tuning the hyperparameters since they all seem to produce the same scores. But I will still use the best parameters returned by the RandomizedSearch, especially `stop_word = 'english'`."
      ]
    },
    {
      "cell_type": "code",
      "metadata": {
        "id": "Zyk3qGoyXvb9"
      },
      "source": [
        "parameters = {\n",
        "    'preprocessor__categorical__countvec__stop_words' : ['english'],\n",
        "    'preprocessor__categorical__countvec__min_df' : np.arange(1,20),\n",
        "    'model__num_leaves': np.arange(10,70),\n",
        "    'model__min_data_in_leaf': np.arange(100,1000)\n",
        "}"
      ],
      "execution_count": 17,
      "outputs": []
    },
    {
      "cell_type": "code",
      "metadata": {
        "id": "pRKLreApXvb-"
      },
      "source": [
        "random_search = RandomizedSearchCV(pipe_lgbm, parameters, n_iter = 10, verbose = 1, n_jobs = -1, random_state = 123)"
      ],
      "execution_count": 18,
      "outputs": []
    },
    {
      "cell_type": "code",
      "metadata": {
        "colab": {
          "base_uri": "https://localhost:8080/"
        },
        "id": "39dtx7YwXvb-",
        "outputId": "d93d0d35-ee9c-431a-f7a3-2d072ecaa323"
      },
      "source": [
        "random_search.fit(df_train, y_train);"
      ],
      "execution_count": 19,
      "outputs": [
        {
          "output_type": "stream",
          "text": [
            "Fitting 5 folds for each of 10 candidates, totalling 50 fits\n"
          ],
          "name": "stdout"
        },
        {
          "output_type": "stream",
          "text": [
            "[Parallel(n_jobs=-1)]: Using backend LokyBackend with 2 concurrent workers.\n",
            "[Parallel(n_jobs=-1)]: Done  46 tasks      | elapsed: 16.5min\n",
            "[Parallel(n_jobs=-1)]: Done  50 out of  50 | elapsed: 17.6min finished\n"
          ],
          "name": "stderr"
        }
      ]
    },
    {
      "cell_type": "code",
      "metadata": {
        "colab": {
          "base_uri": "https://localhost:8080/",
          "height": 414
        },
        "id": "Ugmx0-Q3ZgeV",
        "outputId": "8416be92-88cc-4276-d0b2-8c1b8d7e958d"
      },
      "source": [
        "pd.DataFrame(random_search.cv_results_)[['mean_test_score','param_preprocessor__categorical__countvec__min_df','param_model__num_leaves', 'param_model__min_data_in_leaf', 'rank_test_score']].set_index(\"rank_test_score\").sort_index()"
      ],
      "execution_count": 20,
      "outputs": [
        {
          "output_type": "execute_result",
          "data": {
            "text/html": [
              "<div>\n",
              "<style scoped>\n",
              "    .dataframe tbody tr th:only-of-type {\n",
              "        vertical-align: middle;\n",
              "    }\n",
              "\n",
              "    .dataframe tbody tr th {\n",
              "        vertical-align: top;\n",
              "    }\n",
              "\n",
              "    .dataframe thead th {\n",
              "        text-align: right;\n",
              "    }\n",
              "</style>\n",
              "<table border=\"1\" class=\"dataframe\">\n",
              "  <thead>\n",
              "    <tr style=\"text-align: right;\">\n",
              "      <th></th>\n",
              "      <th>mean_test_score</th>\n",
              "      <th>param_preprocessor__categorical__countvec__min_df</th>\n",
              "      <th>param_model__num_leaves</th>\n",
              "      <th>param_model__min_data_in_leaf</th>\n",
              "    </tr>\n",
              "    <tr>\n",
              "      <th>rank_test_score</th>\n",
              "      <th></th>\n",
              "      <th></th>\n",
              "      <th></th>\n",
              "      <th></th>\n",
              "    </tr>\n",
              "  </thead>\n",
              "  <tbody>\n",
              "    <tr>\n",
              "      <th>1</th>\n",
              "      <td>0.998161</td>\n",
              "      <td>6</td>\n",
              "      <td>45</td>\n",
              "      <td>124</td>\n",
              "    </tr>\n",
              "    <tr>\n",
              "      <th>2</th>\n",
              "      <td>0.998133</td>\n",
              "      <td>14</td>\n",
              "      <td>54</td>\n",
              "      <td>343</td>\n",
              "    </tr>\n",
              "    <tr>\n",
              "      <th>2</th>\n",
              "      <td>0.998133</td>\n",
              "      <td>4</td>\n",
              "      <td>35</td>\n",
              "      <td>270</td>\n",
              "    </tr>\n",
              "    <tr>\n",
              "      <th>4</th>\n",
              "      <td>0.998050</td>\n",
              "      <td>4</td>\n",
              "      <td>43</td>\n",
              "      <td>115</td>\n",
              "    </tr>\n",
              "    <tr>\n",
              "      <th>5</th>\n",
              "      <td>0.997966</td>\n",
              "      <td>7</td>\n",
              "      <td>60</td>\n",
              "      <td>268</td>\n",
              "    </tr>\n",
              "    <tr>\n",
              "      <th>6</th>\n",
              "      <td>0.997938</td>\n",
              "      <td>9</td>\n",
              "      <td>20</td>\n",
              "      <td>673</td>\n",
              "    </tr>\n",
              "    <tr>\n",
              "      <th>7</th>\n",
              "      <td>0.997910</td>\n",
              "      <td>19</td>\n",
              "      <td>31</td>\n",
              "      <td>688</td>\n",
              "    </tr>\n",
              "    <tr>\n",
              "      <th>8</th>\n",
              "      <td>0.997883</td>\n",
              "      <td>8</td>\n",
              "      <td>47</td>\n",
              "      <td>778</td>\n",
              "    </tr>\n",
              "    <tr>\n",
              "      <th>9</th>\n",
              "      <td>0.997437</td>\n",
              "      <td>11</td>\n",
              "      <td>17</td>\n",
              "      <td>969</td>\n",
              "    </tr>\n",
              "    <tr>\n",
              "      <th>10</th>\n",
              "      <td>0.997270</td>\n",
              "      <td>1</td>\n",
              "      <td>12</td>\n",
              "      <td>895</td>\n",
              "    </tr>\n",
              "  </tbody>\n",
              "</table>\n",
              "</div>"
            ],
            "text/plain": [
              "                 mean_test_score  ... param_model__min_data_in_leaf\n",
              "rank_test_score                   ...                              \n",
              "1                       0.998161  ...                           124\n",
              "2                       0.998133  ...                           343\n",
              "2                       0.998133  ...                           270\n",
              "4                       0.998050  ...                           115\n",
              "5                       0.997966  ...                           268\n",
              "6                       0.997938  ...                           673\n",
              "7                       0.997910  ...                           688\n",
              "8                       0.997883  ...                           778\n",
              "9                       0.997437  ...                           969\n",
              "10                      0.997270  ...                           895\n",
              "\n",
              "[10 rows x 4 columns]"
            ]
          },
          "metadata": {
            "tags": []
          },
          "execution_count": 20
        }
      ]
    },
    {
      "cell_type": "markdown",
      "metadata": {
        "id": "ycqFxdqzXvb-"
      },
      "source": [
        "## Cross-validation scores\n",
        "The cross-validation scores for all folds are similar to each other; we can assume that it is a good approximation of the test score.\n"
      ]
    },
    {
      "cell_type": "code",
      "metadata": {
        "colab": {
          "base_uri": "https://localhost:8080/"
        },
        "id": "bwqET3yz5S1Q",
        "outputId": "4e03db9e-60c6-43f8-b02b-03527930113d"
      },
      "source": [
        "best_params = random_search.best_params_\n",
        "best_params"
      ],
      "execution_count": 21,
      "outputs": [
        {
          "output_type": "execute_result",
          "data": {
            "text/plain": [
              "{'model__min_data_in_leaf': 124,\n",
              " 'model__num_leaves': 45,\n",
              " 'preprocessor__categorical__countvec__min_df': 6,\n",
              " 'preprocessor__categorical__countvec__stop_words': 'english'}"
            ]
          },
          "metadata": {
            "tags": []
          },
          "execution_count": 21
        }
      ]
    },
    {
      "cell_type": "code",
      "metadata": {
        "colab": {
          "base_uri": "https://localhost:8080/",
          "height": 206
        },
        "id": "3Twl5UzlXvb-",
        "outputId": "4801faf0-b6cf-439b-a2c0-dacb42872798"
      },
      "source": [
        "numeric_transformer_final = Pipeline([\n",
        "    ('scaler', StandardScaler())\n",
        "]) \n",
        "categorical_transformer_final = Pipeline([\n",
        "    ('countvec', CountVectorizer(binary=True, stop_words = \"english\", min_df=best_params[\"preprocessor__categorical__countvec__min_df\"]))\n",
        "])\n",
        "preprocessor_final = ColumnTransformer([\n",
        "        ('numeric', numeric_transformer, numerical_features),\n",
        "        ('categorical', categorical_transformer, categorical_features)\n",
        "])\n",
        "pipe_final = Pipeline([\n",
        "    ('preprocessor', preprocessor),\n",
        "    ('model', LGBMClassifier(num_leaves= best_params[\"model__num_leaves\"], min_data_in_leaf = best_params[\"model__min_data_in_leaf\"]))])\n",
        "pd.DataFrame(cross_validate(pipe_final, df_train, y_train, return_train_score=True))"
      ],
      "execution_count": 22,
      "outputs": [
        {
          "output_type": "execute_result",
          "data": {
            "text/html": [
              "<div>\n",
              "<style scoped>\n",
              "    .dataframe tbody tr th:only-of-type {\n",
              "        vertical-align: middle;\n",
              "    }\n",
              "\n",
              "    .dataframe tbody tr th {\n",
              "        vertical-align: top;\n",
              "    }\n",
              "\n",
              "    .dataframe thead th {\n",
              "        text-align: right;\n",
              "    }\n",
              "</style>\n",
              "<table border=\"1\" class=\"dataframe\">\n",
              "  <thead>\n",
              "    <tr style=\"text-align: right;\">\n",
              "      <th></th>\n",
              "      <th>fit_time</th>\n",
              "      <th>score_time</th>\n",
              "      <th>test_score</th>\n",
              "      <th>train_score</th>\n",
              "    </tr>\n",
              "  </thead>\n",
              "  <tbody>\n",
              "    <tr>\n",
              "      <th>0</th>\n",
              "      <td>32.955940</td>\n",
              "      <td>2.447700</td>\n",
              "      <td>0.999025</td>\n",
              "      <td>1.0</td>\n",
              "    </tr>\n",
              "    <tr>\n",
              "      <th>1</th>\n",
              "      <td>33.075698</td>\n",
              "      <td>2.384547</td>\n",
              "      <td>0.997493</td>\n",
              "      <td>1.0</td>\n",
              "    </tr>\n",
              "    <tr>\n",
              "      <th>2</th>\n",
              "      <td>40.580823</td>\n",
              "      <td>2.499938</td>\n",
              "      <td>0.998468</td>\n",
              "      <td>1.0</td>\n",
              "    </tr>\n",
              "    <tr>\n",
              "      <th>3</th>\n",
              "      <td>34.584266</td>\n",
              "      <td>2.401956</td>\n",
              "      <td>0.998050</td>\n",
              "      <td>1.0</td>\n",
              "    </tr>\n",
              "    <tr>\n",
              "      <th>4</th>\n",
              "      <td>34.846365</td>\n",
              "      <td>2.408970</td>\n",
              "      <td>0.997910</td>\n",
              "      <td>1.0</td>\n",
              "    </tr>\n",
              "  </tbody>\n",
              "</table>\n",
              "</div>"
            ],
            "text/plain": [
              "    fit_time  score_time  test_score  train_score\n",
              "0  32.955940    2.447700    0.999025          1.0\n",
              "1  33.075698    2.384547    0.997493          1.0\n",
              "2  40.580823    2.499938    0.998468          1.0\n",
              "3  34.584266    2.401956    0.998050          1.0\n",
              "4  34.846365    2.408970    0.997910          1.0"
            ]
          },
          "metadata": {
            "tags": []
          },
          "execution_count": 22
        }
      ]
    },
    {
      "cell_type": "markdown",
      "metadata": {
        "id": "jCktEDPZXvb-"
      },
      "source": [
        "## Training Score\n",
        "\n",
        "Of all the actual news articles, the model was able to capture 99% of them.\n",
        "\n",
        "According to the precision score, there was no false positives, any social media sites using this model would not mislabel real news as fake news.\n",
        "\n",
        "\n"
      ]
    },
    {
      "cell_type": "code",
      "metadata": {
        "id": "1gfSX19qafA4"
      },
      "source": [
        "pipe_final.fit(df_train, y_train);"
      ],
      "execution_count": null,
      "outputs": []
    },
    {
      "cell_type": "code",
      "metadata": {
        "colab": {
          "base_uri": "https://localhost:8080/"
        },
        "id": "GBnze-vAksFt",
        "outputId": "2e75f0bf-0488-4990-e707-1354e800bc3c"
      },
      "source": [
        "print(\"recall score: \", recall_score(y_train, pipe_final.predict(df_train)))\n",
        "print(\"precision score: \", precision_score(y_train, pipe_final.predict(df_train)))"
      ],
      "execution_count": null,
      "outputs": [
        {
          "output_type": "stream",
          "text": [
            "recall score:  0.9999416671527738\n",
            "precision score:  1.0\n"
          ],
          "name": "stdout"
        }
      ]
    },
    {
      "cell_type": "markdown",
      "metadata": {
        "id": "AKIUi_-RXvb-"
      },
      "source": [
        "## The Test Score\n",
        "\n",
        "The model performed very well on the test set.However, it does not deal with imputation and only uses English stop words from sklearn. If there are missing data or foreign articles in deployment data, then its perfomance will probably go down.\n",
        "\n",
        "The model could further be improved on by using groups of words as a single column instead of just using one word per feature. I also treated `date` column as a numerical value when it could be processed as a seasonal/monthly feature. This way, it could capture times when fake news is more likely (if such a pattern exists)."
      ]
    },
    {
      "cell_type": "code",
      "metadata": {
        "colab": {
          "base_uri": "https://localhost:8080/"
        },
        "id": "SwGt3OjSif5H",
        "outputId": "2e36ccfe-23a4-4c1d-cd23-5c49699e18c4"
      },
      "source": [
        "pipe_final.score(df_test, y_test)"
      ],
      "execution_count": null,
      "outputs": [
        {
          "output_type": "execute_result",
          "data": {
            "text/plain": [
              "0.9976599063962559"
            ]
          },
          "metadata": {
            "tags": []
          },
          "execution_count": 26
        }
      ]
    },
    {
      "cell_type": "markdown",
      "metadata": {
        "id": "PxlcCYFBnpJW"
      },
      "source": [
        "## Feature importances\n",
        "\n",
        "It seems that `date` was the most important feature and words such as `reuters` and `news` is considered useful for predicting.\n",
        "\n",
        "Most interestingly, the least important features have words `facebook` and `facade` in it, which implies that news articles with these words are likely to be fake."
      ]
    },
    {
      "cell_type": "code",
      "metadata": {
        "id": "TjArJt9qnocH"
      },
      "source": [
        "pipe_final.fit(df_train, y_train);"
      ],
      "execution_count": null,
      "outputs": []
    },
    {
      "cell_type": "code",
      "metadata": {
        "id": "-ShfaMf4sWMc"
      },
      "source": [
        "new_columns = numerical_features + pipe_final[0].named_transformers_['categorical'][0].get_feature_names();"
      ],
      "execution_count": 58,
      "outputs": []
    },
    {
      "cell_type": "code",
      "metadata": {
        "colab": {
          "base_uri": "https://localhost:8080/",
          "height": 101
        },
        "id": "WSFew3WMoqtZ",
        "outputId": "5779b057-e42a-4549-a091-e194f130ed3a"
      },
      "source": [
        "lr_coefs = pd.DataFrame(data=pipe_final[1].feature_importances_, index=new_columns, columns=[\"Coefficient\"])\n",
        "pd.DataFrame(lr_coefs.sort_values(by = \"Coefficient\", ascending = False).head(30)).T"
      ],
      "execution_count": 63,
      "outputs": [
        {
          "output_type": "execute_result",
          "data": {
            "text/html": [
              "<div>\n",
              "<style scoped>\n",
              "    .dataframe tbody tr th:only-of-type {\n",
              "        vertical-align: middle;\n",
              "    }\n",
              "\n",
              "    .dataframe tbody tr th {\n",
              "        vertical-align: top;\n",
              "    }\n",
              "\n",
              "    .dataframe thead th {\n",
              "        text-align: right;\n",
              "    }\n",
              "</style>\n",
              "<table border=\"1\" class=\"dataframe\">\n",
              "  <thead>\n",
              "    <tr style=\"text-align: right;\">\n",
              "      <th></th>\n",
              "      <th>date</th>\n",
              "      <th>reuters</th>\n",
              "      <th>via</th>\n",
              "      <th>read</th>\n",
              "      <th>image</th>\n",
              "      <th>news</th>\n",
              "      <th>region</th>\n",
              "      <th>nov</th>\n",
              "      <th>watch</th>\n",
              "      <th>century</th>\n",
              "      <th>investment</th>\n",
              "      <th>just</th>\n",
              "      <th>new</th>\n",
              "      <th>us</th>\n",
              "      <th>mainstream</th>\n",
              "      <th>burden</th>\n",
              "      <th>shape</th>\n",
              "      <th>then</th>\n",
              "      <th>more</th>\n",
              "      <th>consistent</th>\n",
              "      <th>getty</th>\n",
              "      <th>also</th>\n",
              "      <th>finally</th>\n",
              "      <th>said</th>\n",
              "      <th>expand</th>\n",
              "      <th>anyone</th>\n",
              "      <th>gas</th>\n",
              "      <th>washington</th>\n",
              "      <th>their</th>\n",
              "      <th>our</th>\n",
              "    </tr>\n",
              "  </thead>\n",
              "  <tbody>\n",
              "    <tr>\n",
              "      <th>Coefficient</th>\n",
              "      <td>348</td>\n",
              "      <td>176</td>\n",
              "      <td>87</td>\n",
              "      <td>78</td>\n",
              "      <td>73</td>\n",
              "      <td>57</td>\n",
              "      <td>49</td>\n",
              "      <td>47</td>\n",
              "      <td>44</td>\n",
              "      <td>42</td>\n",
              "      <td>36</td>\n",
              "      <td>34</td>\n",
              "      <td>34</td>\n",
              "      <td>34</td>\n",
              "      <td>33</td>\n",
              "      <td>32</td>\n",
              "      <td>31</td>\n",
              "      <td>31</td>\n",
              "      <td>30</td>\n",
              "      <td>28</td>\n",
              "      <td>28</td>\n",
              "      <td>28</td>\n",
              "      <td>28</td>\n",
              "      <td>26</td>\n",
              "      <td>26</td>\n",
              "      <td>26</td>\n",
              "      <td>25</td>\n",
              "      <td>25</td>\n",
              "      <td>24</td>\n",
              "      <td>24</td>\n",
              "    </tr>\n",
              "  </tbody>\n",
              "</table>\n",
              "</div>"
            ],
            "text/plain": [
              "             date  reuters  via  read  ...  gas  washington  their  our\n",
              "Coefficient   348      176   87    78  ...   25          25     24   24\n",
              "\n",
              "[1 rows x 30 columns]"
            ]
          },
          "metadata": {
            "tags": []
          },
          "execution_count": 63
        }
      ]
    },
    {
      "cell_type": "code",
      "metadata": {
        "colab": {
          "base_uri": "https://localhost:8080/",
          "height": 101
        },
        "id": "P0b47I8WpNLv",
        "outputId": "f4279893-a24d-4326-ef72-e5e447498ff5"
      },
      "source": [
        "pd.DataFrame(lr_coefs.sort_values(by = \"Coefficient\", ascending = False).tail(30)).T"
      ],
      "execution_count": 64,
      "outputs": [
        {
          "output_type": "execute_result",
          "data": {
            "text/html": [
              "<div>\n",
              "<style scoped>\n",
              "    .dataframe tbody tr th:only-of-type {\n",
              "        vertical-align: middle;\n",
              "    }\n",
              "\n",
              "    .dataframe tbody tr th {\n",
              "        vertical-align: top;\n",
              "    }\n",
              "\n",
              "    .dataframe thead th {\n",
              "        text-align: right;\n",
              "    }\n",
              "</style>\n",
              "<table border=\"1\" class=\"dataframe\">\n",
              "  <thead>\n",
              "    <tr style=\"text-align: right;\">\n",
              "      <th></th>\n",
              "      <th>fabe</th>\n",
              "      <th>fabbrini</th>\n",
              "      <th>fab</th>\n",
              "      <th>fabricator</th>\n",
              "      <th>fabricators</th>\n",
              "      <th>fabrice</th>\n",
              "      <th>facebookcohen</th>\n",
              "      <th>facebookmilo</th>\n",
              "      <th>facebookjacob</th>\n",
              "      <th>facebooking</th>\n",
              "      <th>facebookhowever</th>\n",
              "      <th>facebookhow</th>\n",
              "      <th>facebookgill</th>\n",
              "      <th>facebookfacebookfacebookfacebooktrump</th>\n",
              "      <th>facebookers</th>\n",
              "      <th>facebookdavid</th>\n",
              "      <th>facebookdamn</th>\n",
              "      <th>facebookcall</th>\n",
              "      <th>fabrics</th>\n",
              "      <th>facebookand</th>\n",
              "      <th>facebookaddicting</th>\n",
              "      <th>facebook</th>\n",
              "      <th>face2face</th>\n",
              "      <th>face</th>\n",
              "      <th>facchin</th>\n",
              "      <th>facades</th>\n",
              "      <th>facade</th>\n",
              "      <th>fabulous</th>\n",
              "      <th>fabrizio</th>\n",
              "      <th>émigré</th>\n",
              "    </tr>\n",
              "  </thead>\n",
              "  <tbody>\n",
              "    <tr>\n",
              "      <th>Coefficient</th>\n",
              "      <td>0</td>\n",
              "      <td>0</td>\n",
              "      <td>0</td>\n",
              "      <td>0</td>\n",
              "      <td>0</td>\n",
              "      <td>0</td>\n",
              "      <td>0</td>\n",
              "      <td>0</td>\n",
              "      <td>0</td>\n",
              "      <td>0</td>\n",
              "      <td>0</td>\n",
              "      <td>0</td>\n",
              "      <td>0</td>\n",
              "      <td>0</td>\n",
              "      <td>0</td>\n",
              "      <td>0</td>\n",
              "      <td>0</td>\n",
              "      <td>0</td>\n",
              "      <td>0</td>\n",
              "      <td>0</td>\n",
              "      <td>0</td>\n",
              "      <td>0</td>\n",
              "      <td>0</td>\n",
              "      <td>0</td>\n",
              "      <td>0</td>\n",
              "      <td>0</td>\n",
              "      <td>0</td>\n",
              "      <td>0</td>\n",
              "      <td>0</td>\n",
              "      <td>0</td>\n",
              "    </tr>\n",
              "  </tbody>\n",
              "</table>\n",
              "</div>"
            ],
            "text/plain": [
              "             fabe  fabbrini  fab  ...  fabulous  fabrizio  émigré\n",
              "Coefficient     0         0    0  ...         0         0       0\n",
              "\n",
              "[1 rows x 30 columns]"
            ]
          },
          "metadata": {
            "tags": []
          },
          "execution_count": 64
        }
      ]
    },
    {
      "cell_type": "code",
      "metadata": {
        "id": "ZgnA6QoWtuAe"
      },
      "source": [
        "df1 = df_train[\"date\"].apply(pd.value_counts)\n",
        "df1.plot.bar()"
      ],
      "execution_count": null,
      "outputs": []
    },
    {
      "cell_type": "code",
      "metadata": {
        "id": "fEaegxS3uHNP"
      },
      "source": [
        ""
      ],
      "execution_count": null,
      "outputs": []
    }
  ]
}
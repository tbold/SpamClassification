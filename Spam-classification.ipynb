{
  "nbformat": 4,
  "nbformat_minor": 0,
  "metadata": {
    "anaconda-cloud": {},
    "colab": {
      "name": "hw8.ipynb",
      "provenance": [],
      "collapsed_sections": [],
      "toc_visible": true
    },
    "kernelspec": {
      "display_name": "Python 3",
      "language": "python",
      "name": "python3"
    },
    "language_info": {
      "codemirror_mode": {
        "name": "ipython",
        "version": 3
      },
      "file_extension": ".py",
      "mimetype": "text/x-python",
      "name": "python",
      "nbconvert_exporter": "python",
      "pygments_lexer": "ipython3",
      "version": "3.8.5"
    },
    "name": "_merged",
    "toc": {
      "colors": {
        "hover_highlight": "#DAA520",
        "navigate_num": "#000000",
        "navigate_text": "#333333",
        "running_highlight": "#FF0000",
        "selected_highlight": "#FFD700",
        "sidebar_border": "#EEEEEE",
        "wrapper_background": "#FFFFFF"
      },
      "moveMenuLeft": true,
      "nav_menu": {
        "height": "438px",
        "width": "252px"
      },
      "navigate_menu": true,
      "number_sections": true,
      "sideBar": true,
      "threshold": 4,
      "toc_cell": false,
      "toc_section_display": "block",
      "toc_window_display": false,
      "widenNotebook": false
    }
  },
  "cells": [
    {
      "cell_type": "markdown",
      "metadata": {
        "id": "Mdgf5-g9Xvb2"
      },
      "source": [
        "# Classifying spam vs real news"
      ]
    },
    {
      "cell_type": "code",
      "metadata": {
        "id": "PueZKd1LXvb3"
      },
      "source": [
        "import numpy as np\n",
        "import pandas as pd\n",
        "import matplotlib.pyplot as plt"
      ],
      "execution_count": null,
      "outputs": []
    },
    {
      "cell_type": "code",
      "metadata": {
        "id": "jyReDrkLXvb3"
      },
      "source": [
        "from sklearn.model_selection import train_test_split, cross_val_score, cross_validate, RandomizedSearchCV\n",
        "from sklearn.feature_extraction.text import CountVectorizer\n",
        "from sklearn.pipeline import Pipeline\n",
        "from sklearn.impute import SimpleImputer\n",
        "from sklearn.compose import ColumnTransformer\n",
        "from sklearn.pipeline import Pipeline, make_pipeline\n",
        "from sklearn.preprocessing import StandardScaler\n",
        "from sklearn.dummy import DummyClassifier\n",
        "from lightgbm import LGBMClassifier\n",
        "from sklearn.tree import DecisionTreeClassifier\n",
        "from sklearn.linear_model import LogisticRegression\n",
        "from sklearn.ensemble import RandomForestClassifier, GradientBoostingClassifier\n",
        "from sklearn.metrics import precision_score, recall_score\n"
      ],
      "execution_count": null,
      "outputs": []
    },
    {
      "cell_type": "markdown",
      "metadata": {
        "id": "wc3xaKooXvb3"
      },
      "source": [
        "## The dataset\n",
        "\n",
        "In this world with an influx of information from every outlet, it gets difficult to distinguish between real and fake news. This dataset is a collection of news articles from English blogs, newspaper articles, and news reels."
      ]
    },
    {
      "cell_type": "markdown",
      "metadata": {
        "id": "JNVV19V5Xvb3"
      },
      "source": [
        "**Kaggle dataset: https://www.kaggle.com/clmentbisaillon/fake-and-real-news-dataset**"
      ]
    },
    {
      "cell_type": "markdown",
      "metadata": {
        "id": "2speoFP2Xvb3"
      },
      "source": [
        "## The goal\n",
        "\n",
        "The goal for this dataset is to determine if a news article is fake or not. This task would be useful for social media sites to flag incorrect or misleading information to be spread to the public. The decision is should a news article be flagged for spam. The alternatives are at what time of the year is likely to produce fake news articles (maybe during election season?). Or how many fake news articles are about politics?"
      ]
    },
    {
      "cell_type": "markdown",
      "metadata": {
        "id": "ar3SpKm3Xvb3"
      },
      "source": [
        "## Split the dataset\n",
        "\n",
        "Splitting data into train/test set"
      ]
    },
    {
      "cell_type": "code",
      "metadata": {
        "colab": {
          "base_uri": "https://localhost:8080/",
          "height": 310
        },
        "id": "kTUk0dizXvb3",
        "outputId": "4650080e-03a8-47e6-f5d5-01d3c5188812"
      },
      "source": [
        "df = pd.read_csv(\"articles.csv\", parse_dates=[\"date\"],  engine='python')\n",
        "df.head()\n",
        "df = df.sample(frac=1)\n",
        "print(df.shape)\n",
        "df.head()"
      ],
      "execution_count": null,
      "outputs": [
        {
          "output_type": "stream",
          "text": [
            "(44867, 5)\n"
          ],
          "name": "stdout"
        },
        {
          "output_type": "execute_result",
          "data": {
            "text/html": [
              "<div>\n",
              "<style scoped>\n",
              "    .dataframe tbody tr th:only-of-type {\n",
              "        vertical-align: middle;\n",
              "    }\n",
              "\n",
              "    .dataframe tbody tr th {\n",
              "        vertical-align: top;\n",
              "    }\n",
              "\n",
              "    .dataframe thead th {\n",
              "        text-align: right;\n",
              "    }\n",
              "</style>\n",
              "<table border=\"1\" class=\"dataframe\">\n",
              "  <thead>\n",
              "    <tr style=\"text-align: right;\">\n",
              "      <th></th>\n",
              "      <th>title</th>\n",
              "      <th>text</th>\n",
              "      <th>subject</th>\n",
              "      <th>date</th>\n",
              "      <th>real</th>\n",
              "    </tr>\n",
              "  </thead>\n",
              "  <tbody>\n",
              "    <tr>\n",
              "      <th>13603</th>\n",
              "      <td>MUST WATCH VIDEO! HERE’S THE MOST IMPORTANT AN...</td>\n",
              "      <td>Politics before anything else   that s what Ob...</td>\n",
              "      <td>politics</td>\n",
              "      <td>2016-06-30</td>\n",
              "      <td>False</td>\n",
              "    </tr>\n",
              "    <tr>\n",
              "      <th>21327</th>\n",
              "      <td>ILLEGAL IMMIGRANTS CAUGHT Squatting In Deploye...</td>\n",
              "      <td>These creeps will be out of jail and occupying...</td>\n",
              "      <td>left-news</td>\n",
              "      <td>2015-11-13</td>\n",
              "      <td>False</td>\n",
              "    </tr>\n",
              "    <tr>\n",
              "      <th>38283</th>\n",
              "      <td>Zimbabwe's ruling party says will never succum...</td>\n",
              "      <td>HARARE (Reuters) - Zimbabwe s ruling ZANU-PF p...</td>\n",
              "      <td>worldnews</td>\n",
              "      <td>2017-11-14</td>\n",
              "      <td>True</td>\n",
              "    </tr>\n",
              "    <tr>\n",
              "      <th>3226</th>\n",
              "      <td>Sarah Palin Gets Her A** Handed To Her For Ca...</td>\n",
              "      <td>Sarah Palin opened her mouth again and people ...</td>\n",
              "      <td>News</td>\n",
              "      <td>2016-12-30</td>\n",
              "      <td>False</td>\n",
              "    </tr>\n",
              "    <tr>\n",
              "      <th>35861</th>\n",
              "      <td>Red Cross says life has stopped in Myanmar's R...</td>\n",
              "      <td>GENEVA (Reuters) - Life has stopped in its tra...</td>\n",
              "      <td>worldnews</td>\n",
              "      <td>2017-12-13</td>\n",
              "      <td>True</td>\n",
              "    </tr>\n",
              "  </tbody>\n",
              "</table>\n",
              "</div>"
            ],
            "text/plain": [
              "                                                   title  ...   real\n",
              "13603  MUST WATCH VIDEO! HERE’S THE MOST IMPORTANT AN...  ...  False\n",
              "21327  ILLEGAL IMMIGRANTS CAUGHT Squatting In Deploye...  ...  False\n",
              "38283  Zimbabwe's ruling party says will never succum...  ...   True\n",
              "3226    Sarah Palin Gets Her A** Handed To Her For Ca...  ...  False\n",
              "35861  Red Cross says life has stopped in Myanmar's R...  ...   True\n",
              "\n",
              "[5 rows x 5 columns]"
            ]
          },
          "metadata": {
            "tags": []
          },
          "execution_count": 3
        }
      ]
    },
    {
      "cell_type": "code",
      "metadata": {
        "colab": {
          "base_uri": "https://localhost:8080/"
        },
        "id": "y32fcqBxXvb5",
        "outputId": "d19e20c1-8858-41f4-c24c-2305043ab21d"
      },
      "source": [
        "df_train, df_test = train_test_split(df, random_state=123, train_size=0.80)\n",
        "y_train = df_train[\"real\"]\n",
        "df_train = df_train.drop(\"real\", axis=1)\n",
        "y_test = df_test[\"real\"]\n",
        "df_test = df_test.drop(\"real\", axis=1)\n",
        "\n",
        "print(\"train size:\", df_train.shape)\n",
        "print(\"test size:\", df_test.shape)"
      ],
      "execution_count": null,
      "outputs": [
        {
          "output_type": "stream",
          "text": [
            "train size: (35893, 4)\n",
            "test size: (8974, 4)\n"
          ],
          "name": "stdout"
        }
      ]
    },
    {
      "cell_type": "markdown",
      "metadata": {
        "id": "R486wFAaXvb5"
      },
      "source": [
        "## Exploratory data analysis"
      ]
    },
    {
      "cell_type": "markdown",
      "metadata": {
        "id": "a6_KgvBH395O"
      },
      "source": [
        "Training dataset has no missing values and an even split in target column `real` so there is no class imbalance."
      ]
    },
    {
      "cell_type": "code",
      "metadata": {
        "colab": {
          "base_uri": "https://localhost:8080/"
        },
        "id": "a-yozgaMXvb5",
        "outputId": "73654776-b154-4a1a-cfc6-007a4428aecd"
      },
      "source": [
        "df_train.info()"
      ],
      "execution_count": null,
      "outputs": [
        {
          "output_type": "stream",
          "text": [
            "<class 'pandas.core.frame.DataFrame'>\n",
            "Int64Index: 35893 entries, 5675 to 44770\n",
            "Data columns (total 4 columns):\n",
            " #   Column   Non-Null Count  Dtype         \n",
            "---  ------   --------------  -----         \n",
            " 0   title    35893 non-null  object        \n",
            " 1   text     35893 non-null  object        \n",
            " 2   subject  35893 non-null  object        \n",
            " 3   date     35893 non-null  datetime64[ns]\n",
            "dtypes: datetime64[ns](1), object(3)\n",
            "memory usage: 1.4+ MB\n"
          ],
          "name": "stdout"
        }
      ]
    },
    {
      "cell_type": "code",
      "metadata": {
        "colab": {
          "base_uri": "https://localhost:8080/"
        },
        "id": "iWRwtkNCXvb6",
        "outputId": "37c1b54d-15e0-4314-c1cb-ab4e51b3075b"
      },
      "source": [
        "y_train.value_counts()"
      ],
      "execution_count": null,
      "outputs": [
        {
          "output_type": "execute_result",
          "data": {
            "text/plain": [
              "False    18750\n",
              "True     17143\n",
              "Name: real, dtype: int64"
            ]
          },
          "metadata": {
            "tags": []
          },
          "execution_count": 6
        }
      ]
    },
    {
      "cell_type": "code",
      "metadata": {
        "colab": {
          "base_uri": "https://localhost:8080/"
        },
        "id": "HNgTj9fZXvb7",
        "outputId": "5de53b17-e175-419b-ba27-b7ad1b14a333"
      },
      "source": [
        "df_train[\"subject\"].value_counts()"
      ],
      "execution_count": null,
      "outputs": [
        {
          "output_type": "execute_result",
          "data": {
            "text/plain": [
              "politicsNews       9053\n",
              "worldnews          8090\n",
              "News               7249\n",
              "politics           5483\n",
              "left-news          3549\n",
              "Government News    1254\n",
              "US_News             609\n",
              "Middle-east         606\n",
              "Name: subject, dtype: int64"
            ]
          },
          "metadata": {
            "tags": []
          },
          "execution_count": 7
        }
      ]
    },
    {
      "cell_type": "code",
      "metadata": {
        "colab": {
          "base_uri": "https://localhost:8080/",
          "height": 283
        },
        "id": "-RXEvFvSXvb7",
        "outputId": "505d7620-13c8-4148-de7e-728e90b94778"
      },
      "source": [
        "df_train[\"subject\"].hist()"
      ],
      "execution_count": null,
      "outputs": [
        {
          "output_type": "execute_result",
          "data": {
            "text/plain": [
              "<matplotlib.axes._subplots.AxesSubplot at 0x7fec874f6da0>"
            ]
          },
          "metadata": {
            "tags": []
          },
          "execution_count": 8
        },
        {
          "output_type": "display_data",
          "data": {
            "image/png": "[encoded data removed]",
            "text/plain": [
              "<Figure size 432x288 with 1 Axes>"
            ]
          },
          "metadata": {
            "tags": [],
            "needs_background": "light"
          }
        }
      ]
    },
    {
      "cell_type": "markdown",
      "metadata": {
        "id": "PvrMSArkXvb7"
      },
      "source": [
        "`subject` column is categorical with government and political categories as the dominant values. There is some overlap in the types, `News` can cover `worldnews` and `US_News` types."
      ]
    },
    {
      "cell_type": "code",
      "metadata": {
        "colab": {
          "base_uri": "https://localhost:8080/",
          "height": 282
        },
        "id": "js2HifWOXvb7",
        "outputId": "252984f8-18e1-40e7-d544-9b70eb3e1f82"
      },
      "source": [
        "df_train[\"date\"].hist(bins = 50)"
      ],
      "execution_count": null,
      "outputs": [
        {
          "output_type": "execute_result",
          "data": {
            "text/plain": [
              "<matplotlib.axes._subplots.AxesSubplot at 0x7fec876bc2e8>"
            ]
          },
          "metadata": {
            "tags": []
          },
          "execution_count": 9
        },
        {
          "output_type": "display_data",
          "data": {
            "image/png": "[encoded data removed]",
            "text/plain": [
              "<Figure size 432x288 with 1 Axes>"
            ]
          },
          "metadata": {
            "tags": [],
            "needs_background": "light"
          }
        }
      ]
    },
    {
      "cell_type": "markdown",
      "metadata": {
        "id": "4xnMH98aXvb7"
      },
      "source": [
        "There is only one numeric feature, `date`, which does not have as much data from 2015 and has a lot more data for 2017-2018."
      ]
    },
    {
      "cell_type": "code",
      "metadata": {
        "colab": {
          "base_uri": "https://localhost:8080/",
          "height": 316
        },
        "id": "wG8-H-tlXvb7",
        "outputId": "604e5a90-7059-4a03-d54f-8042f836e464"
      },
      "source": [
        "title_count = pd.DataFrame(df_train['title'].str.split().apply(len))\n",
        "title_count.hist(bins = 30)"
      ],
      "execution_count": null,
      "outputs": [
        {
          "output_type": "execute_result",
          "data": {
            "text/plain": [
              "array([[<matplotlib.axes._subplots.AxesSubplot object at 0x7fec875f5518>]],\n",
              "      dtype=object)"
            ]
          },
          "metadata": {
            "tags": []
          },
          "execution_count": 10
        },
        {
          "output_type": "display_data",
          "data": {
            "image/png": "[encoded data removed]",
            "text/plain": [
              "<Figure size 432x288 with 1 Axes>"
            ]
          },
          "metadata": {
            "tags": [],
            "needs_background": "light"
          }
        }
      ]
    },
    {
      "cell_type": "code",
      "metadata": {
        "colab": {
          "base_uri": "https://localhost:8080/",
          "height": 316
        },
        "id": "pHGePwhqXvb7",
        "outputId": "8e42aa39-8cc4-4546-ae69-6220a91596ca"
      },
      "source": [
        "text_count = pd.DataFrame(df_train['text'].str.split().apply(len))\n",
        "text_count.hist(bins = 50)"
      ],
      "execution_count": null,
      "outputs": [
        {
          "output_type": "execute_result",
          "data": {
            "text/plain": [
              "array([[<matplotlib.axes._subplots.AxesSubplot object at 0x7fec87060400>]],\n",
              "      dtype=object)"
            ]
          },
          "metadata": {
            "tags": []
          },
          "execution_count": 11
        },
        {
          "output_type": "display_data",
          "data": {
            "image/png": "[encoded data removed]",
            "text/plain": [
              "<Figure size 432x288 with 1 Axes>"
            ]
          },
          "metadata": {
            "tags": [],
            "needs_background": "light"
          }
        }
      ]
    },
    {
      "cell_type": "markdown",
      "metadata": {
        "id": "HXlS-glfXvb8"
      },
      "source": [
        "For `title` column, most datapoints are clustered in the 12 word count range but there is some outliers with more than 30 words. For `text` column, most data points are in the 100 - 1000 word range."
      ]
    },
    {
      "cell_type": "code",
      "metadata": {
        "colab": {
          "base_uri": "https://localhost:8080/",
          "height": 296
        },
        "id": "Cg2wfOgpXvb8",
        "outputId": "2d72b1de-c794-41ea-f4f4-ce3b4ed3e1d4"
      },
      "source": [
        "plt.scatter(text_count[\"text\"][~y_train],title_count[\"title\"][~y_train], marker = \"x\")\n",
        "plt.scatter(text_count[\"text\"][y_train],title_count[\"title\"][y_train], marker = \"^\")\n",
        "\n",
        "plt.legend(labels=y_train)\n",
        "plt.xlabel(\"text\")\n",
        "plt.ylabel(\"title\")"
      ],
      "execution_count": null,
      "outputs": [
        {
          "output_type": "execute_result",
          "data": {
            "text/plain": [
              "Text(0, 0.5, 'title')"
            ]
          },
          "metadata": {
            "tags": []
          },
          "execution_count": 12
        },
        {
          "output_type": "display_data",
          "data": {
            "image/png": "[encoded data removed]",
            "text/plain": [
              "<Figure size 432x288 with 1 Axes>"
            ]
          },
          "metadata": {
            "tags": [],
            "needs_background": "light"
          }
        }
      ]
    },
    {
      "cell_type": "markdown",
      "metadata": {
        "id": "o8uwjPuCXvb8"
      },
      "source": [
        "Upon further inspection of the text columns, there is some outliers some fake and real articles with more than 5000 text words. It seems real news articles are limited to less than 20 words but fake ones with more than 40 words are outliers."
      ]
    },
    {
      "cell_type": "markdown",
      "metadata": {
        "id": "UHdUfti8Xvb8"
      },
      "source": [
        "## Data cleaning\n",
        "The raw dataset does not have many features to begin with but the articles themselves have many words. I will drop the `title` column because there is not as many words to work with. I will also drop the `subject` column because the categories are pretty vague and does not provide a clear division of what kind of news it is. It would've been preferable to have political, sports, and entertainment etc; but the current values are not helpful."
      ]
    },
    {
      "cell_type": "markdown",
      "metadata": {
        "id": "pQsmatIIXvb9"
      },
      "source": [
        "## The preprocessing pipeline"
      ]
    },
    {
      "cell_type": "code",
      "metadata": {
        "id": "7LeoKsLIXvb9"
      },
      "source": [
        "categorical_features = 'text'\n",
        "numerical_features = ['date']\n",
        "drop_features = ['title', 'subject'] "
      ],
      "execution_count": null,
      "outputs": []
    },
    {
      "cell_type": "code",
      "metadata": {
        "id": "7Nx5rCV3Xvb9"
      },
      "source": [
        "numeric_transformer = Pipeline([\n",
        "    ('scaler', StandardScaler())\n",
        "]) \n",
        "categorical_transformer = Pipeline([\n",
        "    ('countvec', CountVectorizer(binary=True))\n",
        "])\n",
        "preprocessor = ColumnTransformer([\n",
        "        ('numeric', numeric_transformer, numerical_features),\n",
        "        ('categorical', categorical_transformer, categorical_features)\n",
        "])"
      ],
      "execution_count": null,
      "outputs": []
    },
    {
      "cell_type": "markdown",
      "metadata": {
        "id": "6e-Bmq94Xvb9"
      },
      "source": [
        "## Exploratory baseline models\n",
        "\n",
        "Some basic models with default parameters to help identify the best model to use.\n",
        "\n",
        "Especially with DummyClassifier as a baseline, any chosen model must perform better than this one.\n"
      ]
    },
    {
      "cell_type": "code",
      "metadata": {
        "id": "aQ7WAu6fXvb9"
      },
      "source": [
        "pipe_dummy = Pipeline([\n",
        "    ('preprocessor', preprocessor),\n",
        "    ('model', DummyClassifier())])\n",
        "pipe_lr = Pipeline([\n",
        "    ('preprocessor', preprocessor),\n",
        "    ('model', LogisticRegression(max_iter=1000))])\n",
        "pipe_lgbm = Pipeline([\n",
        "    ('preprocessor', preprocessor),\n",
        "    ('model', LGBMClassifier())])\n",
        "pipe_tree = Pipeline([\n",
        "    ('preprocessor', preprocessor),\n",
        "    ('model', DecisionTreeClassifier())])\n",
        "pipe_forest = Pipeline([\n",
        "    ('preprocessor', preprocessor),\n",
        "    ('model', RandomForestClassifier())])"
      ],
      "execution_count": null,
      "outputs": []
    },
    {
      "cell_type": "code",
      "metadata": {
        "colab": {
          "base_uri": "https://localhost:8080/"
        },
        "id": "SY_8MWJLXvb9",
        "outputId": "940fa52f-86d2-45c8-9ad4-c27ac3a7b61e"
      },
      "source": [
        "classifiers = {\n",
        "    'dummy' : pipe_dummy,\n",
        "    'logistic regression' : pipe_lr,\n",
        "    'LightGBM' : pipe_lgbm,\n",
        "    'decision tree' : pipe_tree,\n",
        "    'random forest' : pipe_forest\n",
        "}\n",
        "mean_results_dict = dict()\n",
        "std_results_dict = dict()\n",
        "for name, classifier in classifiers.items():\n",
        "    print(name)\n",
        "    result = pd.DataFrame(cross_validate(classifier, df_train, y_train, return_train_score=True))\n",
        "    mean_results_dict[name] = result.mean()\n",
        "    std_results_dict[name] = result.std()"
      ],
      "execution_count": null,
      "outputs": [
        {
          "output_type": "stream",
          "text": [
            "dummy\n"
          ],
          "name": "stdout"
        },
        {
          "output_type": "stream",
          "text": [
            "/usr/local/lib/python3.6/dist-packages/sklearn/dummy.py:132: FutureWarning: The default value of strategy will change from stratified to prior in 0.24.\n",
            "  \"stratified to prior in 0.24.\", FutureWarning)\n",
            "/usr/local/lib/python3.6/dist-packages/sklearn/dummy.py:132: FutureWarning: The default value of strategy will change from stratified to prior in 0.24.\n",
            "  \"stratified to prior in 0.24.\", FutureWarning)\n",
            "/usr/local/lib/python3.6/dist-packages/sklearn/dummy.py:132: FutureWarning: The default value of strategy will change from stratified to prior in 0.24.\n",
            "  \"stratified to prior in 0.24.\", FutureWarning)\n",
            "/usr/local/lib/python3.6/dist-packages/sklearn/dummy.py:132: FutureWarning: The default value of strategy will change from stratified to prior in 0.24.\n",
            "  \"stratified to prior in 0.24.\", FutureWarning)\n",
            "/usr/local/lib/python3.6/dist-packages/sklearn/dummy.py:132: FutureWarning: The default value of strategy will change from stratified to prior in 0.24.\n",
            "  \"stratified to prior in 0.24.\", FutureWarning)\n"
          ],
          "name": "stderr"
        },
        {
          "output_type": "stream",
          "text": [
            "logistic regression\n",
            "LightGBM\n",
            "decision tree\n",
            "random forest\n"
          ],
          "name": "stdout"
        }
      ]
    },
    {
      "cell_type": "code",
      "metadata": {
        "colab": {
          "base_uri": "https://localhost:8080/",
          "height": 206
        },
        "id": "0T1cbScQXvb9",
        "outputId": "5634225b-823a-4833-9872-10c834a7ce51"
      },
      "source": [
        "results = pd.DataFrame(mean_results_dict).T\n",
        "std_results  = pd.DataFrame(std_results_dict).T\n",
        "results = results.assign(test_score_std=std_results[\"test_score\"])\n",
        "results.sort_values(by=[\"test_score\"], ascending=False)"
      ],
      "execution_count": null,
      "outputs": [
        {
          "output_type": "execute_result",
          "data": {
            "text/html": [
              "<div>\n",
              "<style scoped>\n",
              "    .dataframe tbody tr th:only-of-type {\n",
              "        vertical-align: middle;\n",
              "    }\n",
              "\n",
              "    .dataframe tbody tr th {\n",
              "        vertical-align: top;\n",
              "    }\n",
              "\n",
              "    .dataframe thead th {\n",
              "        text-align: right;\n",
              "    }\n",
              "</style>\n",
              "<table border=\"1\" class=\"dataframe\">\n",
              "  <thead>\n",
              "    <tr style=\"text-align: right;\">\n",
              "      <th></th>\n",
              "      <th>fit_time</th>\n",
              "      <th>score_time</th>\n",
              "      <th>test_score</th>\n",
              "      <th>train_score</th>\n",
              "      <th>test_score_std</th>\n",
              "    </tr>\n",
              "  </thead>\n",
              "  <tbody>\n",
              "    <tr>\n",
              "      <th>logistic regression</th>\n",
              "      <td>13.081576</td>\n",
              "      <td>2.275804</td>\n",
              "      <td>0.998133</td>\n",
              "      <td>0.999972</td>\n",
              "      <td>0.000159</td>\n",
              "    </tr>\n",
              "    <tr>\n",
              "      <th>LightGBM</th>\n",
              "      <td>39.647902</td>\n",
              "      <td>2.406774</td>\n",
              "      <td>0.997938</td>\n",
              "      <td>0.999993</td>\n",
              "      <td>0.000552</td>\n",
              "    </tr>\n",
              "    <tr>\n",
              "      <th>decision tree</th>\n",
              "      <td>17.178085</td>\n",
              "      <td>2.247309</td>\n",
              "      <td>0.996824</td>\n",
              "      <td>1.000000</td>\n",
              "      <td>0.000726</td>\n",
              "    </tr>\n",
              "    <tr>\n",
              "      <th>random forest</th>\n",
              "      <td>93.482382</td>\n",
              "      <td>3.217454</td>\n",
              "      <td>0.988104</td>\n",
              "      <td>1.000000</td>\n",
              "      <td>0.000604</td>\n",
              "    </tr>\n",
              "    <tr>\n",
              "      <th>dummy</th>\n",
              "      <td>8.725616</td>\n",
              "      <td>2.231008</td>\n",
              "      <td>0.501268</td>\n",
              "      <td>0.498168</td>\n",
              "      <td>0.003156</td>\n",
              "    </tr>\n",
              "  </tbody>\n",
              "</table>\n",
              "</div>"
            ],
            "text/plain": [
              "                      fit_time  score_time  ...  train_score  test_score_std\n",
              "logistic regression  13.081576    2.275804  ...     0.999972        0.000159\n",
              "LightGBM             39.647902    2.406774  ...     0.999993        0.000552\n",
              "decision tree        17.178085    2.247309  ...     1.000000        0.000726\n",
              "random forest        93.482382    3.217454  ...     1.000000        0.000604\n",
              "dummy                 8.725616    2.231008  ...     0.498168        0.003156\n",
              "\n",
              "[5 rows x 5 columns]"
            ]
          },
          "metadata": {
            "tags": []
          },
          "execution_count": 17
        }
      ]
    },
    {
      "cell_type": "markdown",
      "metadata": {
        "id": "K74iQmyVXvb9"
      },
      "source": [
        "I used all default hyperparameters for both the classifier and preprocessor. All the classifiers (except for DummyClassifier) performed well but it would be interesting to see if the preprocessing could be further improved on."
      ]
    },
    {
      "cell_type": "markdown",
      "metadata": {
        "id": "HyS--cXYXvb9"
      },
      "source": [
        "## Hyper-parameter tuning\n",
        "\n",
        "I chose to use a randomized search on LGBM because it is interesting to tune the leaves and the depth of the trees.\n",
        "\n",
        "In the end, there was very little improvement in tuning the hyperparameters since they all seem to produce the same scores. But I will still use the best parameters returned by the RandomizedSearch, especially `stop_word = 'english'`."
      ]
    },
    {
      "cell_type": "code",
      "metadata": {
        "id": "Zyk3qGoyXvb9"
      },
      "source": [
        "parameters = {\n",
        "    'preprocessor__categorical__countvec__stop_words' : ['english'],\n",
        "    'preprocessor__categorical__countvec__min_df' : np.arange(1,20),\n",
        "    'model__num_leaves': np.arange(10,70),\n",
        "    'model__min_data_in_leaf': np.arange(100,1000)\n",
        "}"
      ],
      "execution_count": null,
      "outputs": []
    },
    {
      "cell_type": "code",
      "metadata": {
        "id": "pRKLreApXvb-"
      },
      "source": [
        "random_search = RandomizedSearchCV(pipe_lgbm, parameters, n_iter = 10, verbose = 1, n_jobs = -1, random_state = 123)"
      ],
      "execution_count": null,
      "outputs": []
    },
    {
      "cell_type": "code",
      "metadata": {
        "colab": {
          "base_uri": "https://localhost:8080/"
        },
        "id": "39dtx7YwXvb-",
        "outputId": "776fce9a-6de2-4efa-e9d2-3d0c2894ba78"
      },
      "source": [
        "random_search.fit(df_train, y_train);"
      ],
      "execution_count": null,
      "outputs": [
        {
          "output_type": "stream",
          "text": [
            "Fitting 5 folds for each of 10 candidates, totalling 50 fits\n"
          ],
          "name": "stdout"
        },
        {
          "output_type": "stream",
          "text": [
            "[Parallel(n_jobs=-1)]: Using backend LokyBackend with 2 concurrent workers.\n",
            "[Parallel(n_jobs=-1)]: Done  46 tasks      | elapsed: 17.5min\n",
            "[Parallel(n_jobs=-1)]: Done  50 out of  50 | elapsed: 18.6min finished\n"
          ],
          "name": "stderr"
        }
      ]
    },
    {
      "cell_type": "code",
      "metadata": {
        "colab": {
          "base_uri": "https://localhost:8080/",
          "height": 414
        },
        "id": "Ugmx0-Q3ZgeV",
        "outputId": "540c4fbe-a266-4720-8a57-16377a563366"
      },
      "source": [
        "pd.DataFrame(random_search.cv_results_)[['mean_test_score','param_preprocessor__categorical__countvec__min_df','param_model__num_leaves', 'param_model__min_data_in_leaf', 'rank_test_score']].set_index(\"rank_test_score\").sort_index()"
      ],
      "execution_count": null,
      "outputs": [
        {
          "output_type": "execute_result",
          "data": {
            "text/html": [
              "<div>\n",
              "<style scoped>\n",
              "    .dataframe tbody tr th:only-of-type {\n",
              "        vertical-align: middle;\n",
              "    }\n",
              "\n",
              "    .dataframe tbody tr th {\n",
              "        vertical-align: top;\n",
              "    }\n",
              "\n",
              "    .dataframe thead th {\n",
              "        text-align: right;\n",
              "    }\n",
              "</style>\n",
              "<table border=\"1\" class=\"dataframe\">\n",
              "  <thead>\n",
              "    <tr style=\"text-align: right;\">\n",
              "      <th></th>\n",
              "      <th>mean_test_score</th>\n",
              "      <th>param_preprocessor__categorical__countvec__min_df</th>\n",
              "      <th>param_model__num_leaves</th>\n",
              "      <th>param_model__min_data_in_leaf</th>\n",
              "    </tr>\n",
              "    <tr>\n",
              "      <th>rank_test_score</th>\n",
              "      <th></th>\n",
              "      <th></th>\n",
              "      <th></th>\n",
              "      <th></th>\n",
              "    </tr>\n",
              "  </thead>\n",
              "  <tbody>\n",
              "    <tr>\n",
              "      <th>1</th>\n",
              "      <td>0.997994</td>\n",
              "      <td>4</td>\n",
              "      <td>43</td>\n",
              "      <td>115</td>\n",
              "    </tr>\n",
              "    <tr>\n",
              "      <th>2</th>\n",
              "      <td>0.997938</td>\n",
              "      <td>6</td>\n",
              "      <td>45</td>\n",
              "      <td>124</td>\n",
              "    </tr>\n",
              "    <tr>\n",
              "      <th>3</th>\n",
              "      <td>0.997910</td>\n",
              "      <td>14</td>\n",
              "      <td>54</td>\n",
              "      <td>343</td>\n",
              "    </tr>\n",
              "    <tr>\n",
              "      <th>4</th>\n",
              "      <td>0.997883</td>\n",
              "      <td>4</td>\n",
              "      <td>35</td>\n",
              "      <td>270</td>\n",
              "    </tr>\n",
              "    <tr>\n",
              "      <th>5</th>\n",
              "      <td>0.997855</td>\n",
              "      <td>7</td>\n",
              "      <td>60</td>\n",
              "      <td>268</td>\n",
              "    </tr>\n",
              "    <tr>\n",
              "      <th>6</th>\n",
              "      <td>0.997743</td>\n",
              "      <td>9</td>\n",
              "      <td>20</td>\n",
              "      <td>673</td>\n",
              "    </tr>\n",
              "    <tr>\n",
              "      <th>7</th>\n",
              "      <td>0.997688</td>\n",
              "      <td>19</td>\n",
              "      <td>31</td>\n",
              "      <td>688</td>\n",
              "    </tr>\n",
              "    <tr>\n",
              "      <th>8</th>\n",
              "      <td>0.997465</td>\n",
              "      <td>8</td>\n",
              "      <td>47</td>\n",
              "      <td>778</td>\n",
              "    </tr>\n",
              "    <tr>\n",
              "      <th>9</th>\n",
              "      <td>0.997158</td>\n",
              "      <td>11</td>\n",
              "      <td>17</td>\n",
              "      <td>969</td>\n",
              "    </tr>\n",
              "    <tr>\n",
              "      <th>10</th>\n",
              "      <td>0.997103</td>\n",
              "      <td>1</td>\n",
              "      <td>12</td>\n",
              "      <td>895</td>\n",
              "    </tr>\n",
              "  </tbody>\n",
              "</table>\n",
              "</div>"
            ],
            "text/plain": [
              "                 mean_test_score  ... param_model__min_data_in_leaf\n",
              "rank_test_score                   ...                              \n",
              "1                       0.997994  ...                           115\n",
              "2                       0.997938  ...                           124\n",
              "3                       0.997910  ...                           343\n",
              "4                       0.997883  ...                           270\n",
              "5                       0.997855  ...                           268\n",
              "6                       0.997743  ...                           673\n",
              "7                       0.997688  ...                           688\n",
              "8                       0.997465  ...                           778\n",
              "9                       0.997158  ...                           969\n",
              "10                      0.997103  ...                           895\n",
              "\n",
              "[10 rows x 4 columns]"
            ]
          },
          "metadata": {
            "tags": []
          },
          "execution_count": 21
        }
      ]
    },
    {
      "cell_type": "markdown",
      "metadata": {
        "id": "ycqFxdqzXvb-"
      },
      "source": [
        "## Cross-validation scores\n",
        "The cross-validation scores for all folds are similar to each other; we can assume that it is a good approximation of the test score.\n"
      ]
    },
    {
      "cell_type": "code",
      "metadata": {
        "colab": {
          "base_uri": "https://localhost:8080/"
        },
        "id": "bwqET3yz5S1Q",
        "outputId": "39e05d83-c821-40ec-8331-8a3e47195af7"
      },
      "source": [
        "best_params = random_search.best_params_\n",
        "best_params"
      ],
      "execution_count": null,
      "outputs": [
        {
          "output_type": "execute_result",
          "data": {
            "text/plain": [
              "{'model__min_data_in_leaf': 115,\n",
              " 'model__num_leaves': 43,\n",
              " 'preprocessor__categorical__countvec__min_df': 4,\n",
              " 'preprocessor__categorical__countvec__stop_words': 'english'}"
            ]
          },
          "metadata": {
            "tags": []
          },
          "execution_count": 22
        }
      ]
    },
    {
      "cell_type": "code",
      "metadata": {
        "colab": {
          "base_uri": "https://localhost:8080/",
          "height": 206
        },
        "id": "3Twl5UzlXvb-",
        "outputId": "c59f3ee8-c022-4e35-efcc-0bfc0b0b9ce7"
      },
      "source": [
        "numeric_transformer_final = Pipeline([\n",
        "    ('scaler', StandardScaler())\n",
        "]) \n",
        "categorical_transformer_final = Pipeline([\n",
        "    ('countvec', CountVectorizer(binary=True, stop_words = \"english\", min_df=best_params[\"preprocessor__categorical__countvec__min_df\"]))\n",
        "])\n",
        "preprocessor_final = ColumnTransformer([\n",
        "        ('numeric', numeric_transformer, numerical_features),\n",
        "        ('categorical', categorical_transformer, categorical_features)\n",
        "])\n",
        "pipe_final = Pipeline([\n",
        "    ('preprocessor', preprocessor),\n",
        "    ('model', LGBMClassifier(num_leaves= best_params[\"model__num_leaves\"], min_data_in_leaf = best_params[\"model__min_data_in_leaf\"]))])\n",
        "pd.DataFrame(cross_validate(pipe_final, df_train, y_train, return_train_score=True))"
      ],
      "execution_count": null,
      "outputs": [
        {
          "output_type": "execute_result",
          "data": {
            "text/html": [
              "<div>\n",
              "<style scoped>\n",
              "    .dataframe tbody tr th:only-of-type {\n",
              "        vertical-align: middle;\n",
              "    }\n",
              "\n",
              "    .dataframe tbody tr th {\n",
              "        vertical-align: top;\n",
              "    }\n",
              "\n",
              "    .dataframe thead th {\n",
              "        text-align: right;\n",
              "    }\n",
              "</style>\n",
              "<table border=\"1\" class=\"dataframe\">\n",
              "  <thead>\n",
              "    <tr style=\"text-align: right;\">\n",
              "      <th></th>\n",
              "      <th>fit_time</th>\n",
              "      <th>score_time</th>\n",
              "      <th>test_score</th>\n",
              "      <th>train_score</th>\n",
              "    </tr>\n",
              "  </thead>\n",
              "  <tbody>\n",
              "    <tr>\n",
              "      <th>0</th>\n",
              "      <td>37.292358</td>\n",
              "      <td>2.582725</td>\n",
              "      <td>0.997493</td>\n",
              "      <td>1.000000</td>\n",
              "    </tr>\n",
              "    <tr>\n",
              "      <th>1</th>\n",
              "      <td>37.858940</td>\n",
              "      <td>2.517154</td>\n",
              "      <td>0.997632</td>\n",
              "      <td>1.000000</td>\n",
              "    </tr>\n",
              "    <tr>\n",
              "      <th>2</th>\n",
              "      <td>37.976185</td>\n",
              "      <td>2.499164</td>\n",
              "      <td>0.997632</td>\n",
              "      <td>0.999965</td>\n",
              "    </tr>\n",
              "    <tr>\n",
              "      <th>3</th>\n",
              "      <td>38.135649</td>\n",
              "      <td>2.489494</td>\n",
              "      <td>0.997771</td>\n",
              "      <td>1.000000</td>\n",
              "    </tr>\n",
              "    <tr>\n",
              "      <th>4</th>\n",
              "      <td>37.598339</td>\n",
              "      <td>2.538036</td>\n",
              "      <td>0.998885</td>\n",
              "      <td>1.000000</td>\n",
              "    </tr>\n",
              "  </tbody>\n",
              "</table>\n",
              "</div>"
            ],
            "text/plain": [
              "    fit_time  score_time  test_score  train_score\n",
              "0  37.292358    2.582725    0.997493     1.000000\n",
              "1  37.858940    2.517154    0.997632     1.000000\n",
              "2  37.976185    2.499164    0.997632     0.999965\n",
              "3  38.135649    2.489494    0.997771     1.000000\n",
              "4  37.598339    2.538036    0.998885     1.000000"
            ]
          },
          "metadata": {
            "tags": []
          },
          "execution_count": 23
        }
      ]
    },
    {
      "cell_type": "markdown",
      "metadata": {
        "id": "jCktEDPZXvb-"
      },
      "source": [
        "## Training Score\n",
        "\n",
        "Of all the actual news articles, the model was able to capture 99% of them.\n",
        "\n",
        "According to the precision score, there was no false positives, any social media sites using this model would not mislabel real news as fake news.\n",
        "\n",
        "\n"
      ]
    },
    {
      "cell_type": "code",
      "metadata": {
        "id": "1gfSX19qafA4"
      },
      "source": [
        "pipe_final.fit(df_train, y_train);"
      ],
      "execution_count": null,
      "outputs": []
    },
    {
      "cell_type": "code",
      "metadata": {
        "colab": {
          "base_uri": "https://localhost:8080/"
        },
        "id": "GBnze-vAksFt",
        "outputId": "2e75f0bf-0488-4990-e707-1354e800bc3c"
      },
      "source": [
        "print(\"recall score: \", recall_score(y_train, pipe_final.predict(df_train)))\n",
        "print(\"precision score: \", precision_score(y_train, pipe_final.predict(df_train)))"
      ],
      "execution_count": null,
      "outputs": [
        {
          "output_type": "stream",
          "text": [
            "recall score:  0.9999416671527738\n",
            "precision score:  1.0\n"
          ],
          "name": "stdout"
        }
      ]
    },
    {
      "cell_type": "markdown",
      "metadata": {
        "id": "AKIUi_-RXvb-"
      },
      "source": [
        "## Test Score\n",
        "\n",
        "The model performed very well on the test set.However, it does not deal with imputation and only uses English stop words from sklearn. If there are missing data or foreign articles in deployment data, then its perfomance will probably go down.\n",
        "\n",
        "The model could further be improved on by using groups of words as a single column instead of just using one word per feature. I also treated `date` column as a numerical value when it could be processed as a seasonal/monthly feature. This way, it could capture times when fake news is more likely (if such a pattern exists)."
      ]
    },
    {
      "cell_type": "code",
      "metadata": {
        "colab": {
          "base_uri": "https://localhost:8080/"
        },
        "id": "SwGt3OjSif5H",
        "outputId": "2e36ccfe-23a4-4c1d-cd23-5c49699e18c4"
      },
      "source": [
        "pipe_final.score(df_test, y_test)"
      ],
      "execution_count": null,
      "outputs": [
        {
          "output_type": "execute_result",
          "data": {
            "text/plain": [
              "0.9976599063962559"
            ]
          },
          "metadata": {
            "tags": []
          },
          "execution_count": 26
        }
      ]
    }
  ]
}
